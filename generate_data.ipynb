{
 "cells": [
  {
   "cell_type": "code",
   "execution_count": 10,
   "metadata": {},
   "outputs": [],
   "source": [
    "import pandas as pd\n",
    "import numpy as np\n",
    "import json\n",
    "import codecs"
   ]
  },
  {
   "cell_type": "code",
   "execution_count": 11,
   "metadata": {},
   "outputs": [],
   "source": [
    "from tqdm import tqdm"
   ]
  },
  {
   "cell_type": "code",
   "execution_count": 12,
   "metadata": {},
   "outputs": [],
   "source": [
    "import random"
   ]
  },
  {
   "cell_type": "code",
   "execution_count": 13,
   "metadata": {},
   "outputs": [],
   "source": [
    "from src.refine_text import normalize_golden_text"
   ]
  },
  {
   "cell_type": "code",
   "execution_count": 14,
   "metadata": {},
   "outputs": [],
   "source": [
    "file_path = '/Users/bryan/Downloads/vinmec_report_80k_unique_lines.txt'"
   ]
  },
  {
   "cell_type": "code",
   "execution_count": 15,
   "metadata": {},
   "outputs": [],
   "source": [
    "with open(file_path, 'rt') as f:\n",
    "    lines = [line.rstrip() for line in f]"
   ]
  },
  {
   "cell_type": "code",
   "execution_count": 16,
   "metadata": {},
   "outputs": [
    {
     "name": "stderr",
     "output_type": "stream",
     "text": [
      "100%|██████████| 79369/79369 [00:25<00:00, 3152.29it/s]\n"
     ]
    }
   ],
   "source": [
    "gold_data_refined = []\n",
    "gold_data_raw = []\n",
    "\n",
    "for line in tqdm(lines):\n",
    "    try:\n",
    "        content = normalize_golden_text(line)\n",
    "    except:\n",
    "        print(line)\n",
    "        break\n",
    "    if len(content.split()) > 5:\n",
    "        gold_data_refined.append(content)\n",
    "        gold_data_raw.append(line)"
   ]
  },
  {
   "cell_type": "code",
   "execution_count": 17,
   "metadata": {},
   "outputs": [],
   "source": [
    "export_data = pd.DataFrame(zip(gold_data_refined, gold_data_raw), columns=['refined', 'raw'])"
   ]
  },
  {
   "cell_type": "code",
   "execution_count": 18,
   "metadata": {},
   "outputs": [],
   "source": [
    "export_data.to_csv('/Users/bryan/Desktop/export_data_common_voices.csv', encoding='utf-8-sig')"
   ]
  },
  {
   "cell_type": "code",
   "execution_count": null,
   "metadata": {},
   "outputs": [],
   "source": [
    "from string import Template"
   ]
  },
  {
   "cell_type": "code",
   "execution_count": null,
   "metadata": {},
   "outputs": [],
   "source": [
    "example = Template('$verb $sentence_loc $prep $what')"
   ]
  },
  {
   "cell_type": "code",
   "execution_count": null,
   "metadata": {},
   "outputs": [],
   "source": [
    "example.substitute(verb='chỉnh', sentence_loc='câu 7', prep='thành', what='tim to')"
   ]
  },
  {
   "cell_type": "code",
   "execution_count": null,
   "metadata": {},
   "outputs": [],
   "source": [
    "templates = {\n",
    "  \"modify\": {\n",
    "    \"sentences\": [\n",
    "      \"$verb $sentence_loc $prep $what\",\n",
    "      \"$sentence_loc $verb $prep $what\"\n",
    "    ],\n",
    "    \"verb\": [\n",
    "      \"chỉnh\",\n",
    "      \"sửa\",\n",
    "      \"đổi\",\n",
    "      \"thay\"\n",
    "    ],\n",
    "    \"sentence_loc\": [\n",
    "      \"trước câu $number\",\n",
    "      \"sau câu $number\",\n",
    "      \"trước câu số $number\",\n",
    "      \"sau câu số $number\",\n",
    "      \"câu số $number\",\n",
    "      \"hàng số $number\",\n",
    "      \"dòng số $number\",\n",
    "      \"\"\n",
    "    ],\n",
    "    \"prep\": [\n",
    "      \"thành\",\n",
    "      \"bằng\",\n",
    "      \"về\",\n",
    "    ]\n",
    "  },\n",
    "  \"delete\": {\n",
    "    \"sentences\": [\n",
    "      \"$verb $sentence_loc\"\n",
    "    ],\n",
    "    \"verb\": [\n",
    "      \"loại bỏ\",\n",
    "      \"xóa\",\n",
    "      \"bỏ\",\n",
    "      \"hủy\"\n",
    "    ],\n",
    "    \"sentence_loc\": [\n",
    "      \"câu $number\"\n",
    "    ]\n",
    "  },\n",
    "  \"add\": {\n",
    "    \"sentences\": [\n",
    "      \"$verb $prep $sentence_loc $what\",\n",
    "      \"$verb $what $prep $sentence_loc\",\n",
    "      \"$what $verb $prep $sentence_loc\"\n",
    "    ],\n",
    "    \"verb\": [\n",
    "      \"thêm\",\n",
    "      \"bổ sung\",\n",
    "      \"nhập\",\n",
    "      \"chèn\"\n",
    "    ],\n",
    "    \"prep\": [\n",
    "      \"vào trước\",\n",
    "      \"vào sau\",\n",
    "      \"vào dưới\",\n",
    "      \"vào trên\",\n",
    "    ],\n",
    "    \"sentence_loc\": [\n",
    "      \"câu $number\",\n",
    "      \"dòng $number\",\n",
    "      \"hàng $number\"\n",
    "    ]\n",
    "  }\n",
    "}"
   ]
  },
  {
   "cell_type": "code",
   "execution_count": null,
   "metadata": {},
   "outputs": [],
   "source": [
    "with open('/Users/bryan/Desktop/template.json', 'w') as outfile:\n",
    "    json.dump(templates, outfile)"
   ]
  },
  {
   "cell_type": "code",
   "execution_count": null,
   "metadata": {},
   "outputs": [],
   "source": [
    "prob_add, prob_del, prob_modify = random.uniform(0, 1), random.uniform(0, 1), random.uniform(0, 1)"
   ]
  },
  {
   "cell_type": "code",
   "execution_count": null,
   "metadata": {},
   "outputs": [],
   "source": [
    "ind_case = np.argmax([prob_add, prob_del, prob_modify])\n",
    "if ind_case == 0:\n",
    "    case = 'modify'\n",
    "elif ind_case == 1:\n",
    "    case = 'delete'\n",
    "else:\n",
    "    case = 'add'\n",
    "case"
   ]
  },
  {
   "cell_type": "code",
   "execution_count": null,
   "metadata": {},
   "outputs": [],
   "source": [
    "number = random.randint(1, 10)\n",
    "example = random.sample(templates[case]['sentences'], 1)[0]\n",
    "verb = random.sample(templates[case]['verb'], 1)[0]\n",
    "prep = random.sample(templates[case]['prep'], 1)[0]\n",
    "what = random.sample(gold_data_refined, 1)[0]\n",
    "sentence_loc = random.sample(templates[case]['sentence_loc'], 1)[0]"
   ]
  },
  {
   "cell_type": "code",
   "execution_count": null,
   "metadata": {},
   "outputs": [],
   "source": [
    "example, verb, prep, what, sentence_loc"
   ]
  },
  {
   "cell_type": "code",
   "execution_count": null,
   "metadata": {},
   "outputs": [],
   "source": [
    "example = Template(example)\n",
    "sentence_loc = Template(sentence_loc)\n",
    "sentence_loc = sentence_loc.substitute(number=number)\n",
    "text = example.substitute({'verb': verb, 'sentence_loc': sentence_loc, 'prep': prep, 'what': what})"
   ]
  },
  {
   "cell_type": "code",
   "execution_count": null,
   "metadata": {},
   "outputs": [],
   "source": [
    "text"
   ]
  },
  {
   "cell_type": "code",
   "execution_count": null,
   "metadata": {},
   "outputs": [],
   "source": [
    "def generate_text_voice(templates, finding:str) -> str:\n",
    "    prob_add, prob_del, prob_modify, prob_nothing = random.uniform(0, 1), random.uniform(0, 1), random.uniform(0, 1), random.uniform(0, 1)\n",
    "    ind_case = np.argmax([prob_add, prob_del, prob_modify, prob_nothing])\n",
    "    if ind_case == 0:\n",
    "        case = 'modify'\n",
    "    elif ind_case == 1:\n",
    "        case = 'delete'\n",
    "    elif ind_case == 2:\n",
    "        case = 'add'\n",
    "    else:\n",
    "        case = 'nothing'\n",
    "    if templates.get(case, None) is not None:\n",
    "        if templates[case].get('sentences') is not None:\n",
    "            example = random.sample(templates[case]['sentences'], 1)[0]\n",
    "        else:\n",
    "            print(f'case {case} has error on sentences')\n",
    "            \n",
    "        if templates[case].get('verb') is not None:\n",
    "            verb = random.sample(templates[case]['verb'], 1)[0]\n",
    "        else:\n",
    "            print(f'case {case} has error on verb')\n",
    "            \n",
    "        if templates[case].get('prep') is not None:\n",
    "            prep = random.sample(templates[case]['prep'], 1)[0]\n",
    "        else:\n",
    "            print(f'case {case} has error on prep')\n",
    "        \n",
    "        if templates[case].get('sentence_loc') is not None:\n",
    "            sentence_loc = random.sample(templates[case]['sentence_loc'], 1)[0]\n",
    "        else:\n",
    "            print(f'case {case} has error on sentence_loc')\n",
    "        \n",
    "        number = random.randint(1, 10)\n",
    "        example = Template(example)\n",
    "        sentence_loc = Template(sentence_loc)\n",
    "        sentence_loc = sentence_loc.substitute(number=number)\n",
    "        text = example.substitute(verb=verb, sentence_loc=sentence_loc, prep=prep, what=finding)\n",
    "        return text, case, number\n",
    "    else:\n",
    "        return finding, None, None"
   ]
  },
  {
   "cell_type": "code",
   "execution_count": null,
   "metadata": {},
   "outputs": [],
   "source": [
    "generate_text_voice(templates, random.sample(gold_data_refined, 1)[0])"
   ]
  },
  {
   "cell_type": "code",
   "execution_count": null,
   "metadata": {},
   "outputs": [],
   "source": [
    "templates = json.loads(codecs.open('/Users/bryan/Desktop/template.json', 'r', 'UTF-8').read())"
   ]
  },
  {
   "cell_type": "code",
   "execution_count": null,
   "metadata": {},
   "outputs": [],
   "source": [
    "templates"
   ]
  },
  {
   "cell_type": "code",
   "execution_count": null,
   "metadata": {},
   "outputs": [],
   "source": [
    "generate_text_voice(templates, random.sample(gold_data_refined, 1)[0])"
   ]
  },
  {
   "cell_type": "code",
   "execution_count": null,
   "metadata": {},
   "outputs": [],
   "source": [
    "foo = pd.read_excel('/Users/bryan/Downloads/Common Voice List_Vietnamese_100.xlsx')"
   ]
  },
  {
   "cell_type": "code",
   "execution_count": null,
   "metadata": {},
   "outputs": [],
   "source": [
    "def run(template_path, data_path, n_samples):\n",
    "    templates = json.loads(codecs.open(template_path, 'r', 'UTF-8').read())\n",
    "    database = pd.read_excel(data_path)\n",
    "    database = database['refined'].tolist()\n",
    "    records = []\n",
    "    for finding in tqdm(database):\n",
    "        tmp = []\n",
    "        for j in range(n_samples):\n",
    "            rec_ = generate_text_voice(templates, finding)\n",
    "            tmp.append(rec_)\n",
    "        tmp = list(set(tmp))\n",
    "        records = records + tmp\n",
    "    return records"
   ]
  },
  {
   "cell_type": "code",
   "execution_count": null,
   "metadata": {},
   "outputs": [],
   "source": [
    "bar = run('/Users/bryan/Desktop/template.json', '/Users/bryan/Downloads/Common Voice List_Vietnamese_100.xlsx', 2)"
   ]
  },
  {
   "cell_type": "code",
   "execution_count": null,
   "metadata": {},
   "outputs": [],
   "source": [
    "templates['delete'].keys()"
   ]
  },
  {
   "cell_type": "code",
   "execution_count": null,
   "metadata": {},
   "outputs": [],
   "source": [
    "example.substitute??"
   ]
  },
  {
   "cell_type": "code",
   "execution_count": null,
   "metadata": {},
   "outputs": [],
   "source": []
  }
 ],
 "metadata": {
  "kernelspec": {
   "display_name": "Python 3",
   "language": "python",
   "name": "python3"
  },
  "language_info": {
   "codemirror_mode": {
    "name": "ipython",
    "version": 3
   },
   "file_extension": ".py",
   "mimetype": "text/x-python",
   "name": "python",
   "nbconvert_exporter": "python",
   "pygments_lexer": "ipython3",
   "version": "3.7.9"
  }
 },
 "nbformat": 4,
 "nbformat_minor": 4
}
