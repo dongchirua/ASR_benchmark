{
 "cells": [
  {
   "cell_type": "code",
   "execution_count": 1,
   "metadata": {},
   "outputs": [],
   "source": [
    "import pandas as pd"
   ]
  },
  {
   "cell_type": "code",
   "execution_count": 44,
   "metadata": {},
   "outputs": [],
   "source": [
    "import re"
   ]
  },
  {
   "cell_type": "code",
   "execution_count": 28,
   "metadata": {},
   "outputs": [],
   "source": [
    "from pydub import AudioSegment"
   ]
  },
  {
   "cell_type": "code",
   "execution_count": 38,
   "metadata": {},
   "outputs": [],
   "source": [
    "from tqdm import tqdm"
   ]
  },
  {
   "cell_type": "code",
   "execution_count": 2,
   "metadata": {},
   "outputs": [],
   "source": [
    "df = pd.read_csv('./clips_202010021436.csv')"
   ]
  },
  {
   "cell_type": "code",
   "execution_count": 3,
   "metadata": {},
   "outputs": [
    {
     "data": {
      "text/html": [
       "<div>\n",
       "<style scoped>\n",
       "    .dataframe tbody tr th:only-of-type {\n",
       "        vertical-align: middle;\n",
       "    }\n",
       "\n",
       "    .dataframe tbody tr th {\n",
       "        vertical-align: top;\n",
       "    }\n",
       "\n",
       "    .dataframe thead th {\n",
       "        text-align: right;\n",
       "    }\n",
       "</style>\n",
       "<table border=\"1\" class=\"dataframe\">\n",
       "  <thead>\n",
       "    <tr style=\"text-align: right;\">\n",
       "      <th></th>\n",
       "      <th>id</th>\n",
       "      <th>client_id</th>\n",
       "      <th>path</th>\n",
       "      <th>sentence</th>\n",
       "      <th>original_sentence_id</th>\n",
       "      <th>created_at</th>\n",
       "      <th>bucket</th>\n",
       "      <th>locale_id</th>\n",
       "      <th>needs_votes</th>\n",
       "      <th>is_valid</th>\n",
       "      <th>validated_at</th>\n",
       "    </tr>\n",
       "  </thead>\n",
       "  <tbody>\n",
       "    <tr>\n",
       "      <th>0</th>\n",
       "      <td>12</td>\n",
       "      <td>34ce7a2e-67b3-469f-a1cf-7ee4cbb49112</td>\n",
       "      <td>34ce7a2e-67b3-469f-a1cf-7ee4cbb49112/57dfda378...</td>\n",
       "      <td>Gãy cũ xương sườn 3, 4, 5, 6, 7, 8 bên trái</td>\n",
       "      <td>57dfda3780862d81e7af5454cda434d505607a5ae4cb45...</td>\n",
       "      <td>2020-09-25 08:43:34.0</td>\n",
       "      <td>train</td>\n",
       "      <td>118</td>\n",
       "      <td>1</td>\n",
       "      <td>NaN</td>\n",
       "      <td>NaN</td>\n",
       "    </tr>\n",
       "    <tr>\n",
       "      <th>1</th>\n",
       "      <td>13</td>\n",
       "      <td>34ce7a2e-67b3-469f-a1cf-7ee4cbb49112</td>\n",
       "      <td>34ce7a2e-67b3-469f-a1cf-7ee4cbb49112/44ba3efcc...</td>\n",
       "      <td>Đậm độ vôi của xương bình thường Hình ảnh gai ...</td>\n",
       "      <td>44ba3efcc1b603acf7795da277e76f9e729522aaf35c36...</td>\n",
       "      <td>2020-09-25 08:43:35.0</td>\n",
       "      <td>train</td>\n",
       "      <td>118</td>\n",
       "      <td>1</td>\n",
       "      <td>NaN</td>\n",
       "      <td>NaN</td>\n",
       "    </tr>\n",
       "    <tr>\n",
       "      <th>2</th>\n",
       "      <td>14</td>\n",
       "      <td>34ce7a2e-67b3-469f-a1cf-7ee4cbb49112</td>\n",
       "      <td>34ce7a2e-67b3-469f-a1cf-7ee4cbb49112/276ee87c3...</td>\n",
       "      <td>·Hình đặc xương phần tủy của xương đòn vùng 1/...</td>\n",
       "      <td>276ee87c30727eb0235969236c6b138de93af3e4a745ac...</td>\n",
       "      <td>2020-09-25 08:43:36.0</td>\n",
       "      <td>train</td>\n",
       "      <td>118</td>\n",
       "      <td>1</td>\n",
       "      <td>NaN</td>\n",
       "      <td>NaN</td>\n",
       "    </tr>\n",
       "  </tbody>\n",
       "</table>\n",
       "</div>"
      ],
      "text/plain": [
       "   id                             client_id  \\\n",
       "0  12  34ce7a2e-67b3-469f-a1cf-7ee4cbb49112   \n",
       "1  13  34ce7a2e-67b3-469f-a1cf-7ee4cbb49112   \n",
       "2  14  34ce7a2e-67b3-469f-a1cf-7ee4cbb49112   \n",
       "\n",
       "                                                path  \\\n",
       "0  34ce7a2e-67b3-469f-a1cf-7ee4cbb49112/57dfda378...   \n",
       "1  34ce7a2e-67b3-469f-a1cf-7ee4cbb49112/44ba3efcc...   \n",
       "2  34ce7a2e-67b3-469f-a1cf-7ee4cbb49112/276ee87c3...   \n",
       "\n",
       "                                            sentence  \\\n",
       "0        Gãy cũ xương sườn 3, 4, 5, 6, 7, 8 bên trái   \n",
       "1  Đậm độ vôi của xương bình thường Hình ảnh gai ...   \n",
       "2  ·Hình đặc xương phần tủy của xương đòn vùng 1/...   \n",
       "\n",
       "                                original_sentence_id             created_at  \\\n",
       "0  57dfda3780862d81e7af5454cda434d505607a5ae4cb45...  2020-09-25 08:43:34.0   \n",
       "1  44ba3efcc1b603acf7795da277e76f9e729522aaf35c36...  2020-09-25 08:43:35.0   \n",
       "2  276ee87c30727eb0235969236c6b138de93af3e4a745ac...  2020-09-25 08:43:36.0   \n",
       "\n",
       "  bucket  locale_id  needs_votes  is_valid  validated_at  \n",
       "0  train        118            1       NaN           NaN  \n",
       "1  train        118            1       NaN           NaN  \n",
       "2  train        118            1       NaN           NaN  "
      ]
     },
     "execution_count": 3,
     "metadata": {},
     "output_type": "execute_result"
    }
   ],
   "source": [
    "df.head(3)"
   ]
  },
  {
   "cell_type": "code",
   "execution_count": 4,
   "metadata": {},
   "outputs": [],
   "source": [
    "n_users = len(df.client_id.unique()"
   ]
  },
  {
   "cell_type": "code",
   "execution_count": 5,
   "metadata": {},
   "outputs": [
    {
     "data": {
      "text/plain": [
       "33"
      ]
     },
     "execution_count": 5,
     "metadata": {},
     "output_type": "execute_result"
    }
   ],
   "source": [
    "n_users"
   ]
  },
  {
   "cell_type": "code",
   "execution_count": 66,
   "metadata": {},
   "outputs": [],
   "source": [
    "n_sentences = len(df.original_sentence_id.unique())"
   ]
  },
  {
   "cell_type": "code",
   "execution_count": 67,
   "metadata": {},
   "outputs": [
    {
     "data": {
      "text/plain": [
       "1290"
      ]
     },
     "execution_count": 67,
     "metadata": {},
     "output_type": "execute_result"
    }
   ],
   "source": [
    "n_sentences"
   ]
  },
  {
   "cell_type": "code",
   "execution_count": 7,
   "metadata": {},
   "outputs": [],
   "source": [
    "import os"
   ]
  },
  {
   "cell_type": "code",
   "execution_count": 15,
   "metadata": {},
   "outputs": [],
   "source": [
    "data_folder = os.path.join('.', 'common-voice')"
   ]
  },
  {
   "cell_type": "code",
   "execution_count": 14,
   "metadata": {},
   "outputs": [
    {
     "data": {
      "text/plain": [
       "'../common-voice'"
      ]
     },
     "execution_count": 14,
     "metadata": {},
     "output_type": "execute_result"
    }
   ],
   "source": [
    "data_folder"
   ]
  },
  {
   "cell_type": "code",
   "execution_count": 47,
   "metadata": {},
   "outputs": [],
   "source": [
    "out_folder = os.path.join('.', 'data', 'vinbrain')"
   ]
  },
  {
   "cell_type": "code",
   "execution_count": 12,
   "metadata": {},
   "outputs": [],
   "source": [
    "from pydub import AudioSegment"
   ]
  },
  {
   "cell_type": "code",
   "execution_count": 53,
   "metadata": {},
   "outputs": [
    {
     "name": "stderr",
     "output_type": "stream",
     "text": [
      "100%|██████████| 1614/1614 [00:00<00:00, 2139.95it/s]\n"
     ]
    }
   ],
   "source": [
    "user_freq = {}\n",
    "user_total = {}\n",
    "\n",
    "for index, row in tqdm(df.iterrows(), total=df.shape[0]):\n",
    "    speech_filepath = row['path']\n",
    "    user_id = speech_filepath.split('/')[0]\n",
    "    \n",
    "    speech_filename = speech_filepath.split('/')[-1][:-4]\n",
    "    speech_user = re.sub('-', '_', speech_filepath.split('/')[0]).split('_')[4]\n",
    "    audio_path = os.path.join(out_folder, speech_user + '_' + speech_filename + '.wav')\n",
    "        \n",
    "    try:\n",
    "        audio = AudioSegment.from_file(audio_path)\n",
    "\n",
    "        if user_id in user_freq:\n",
    "            user_total[user_id] = user_total[user_id] + 1\n",
    "            user_freq[user_id] = user_freq[user_id] + audio.duration_seconds\n",
    "        else:\n",
    "            user_total[user_id] = 1\n",
    "            user_freq[user_id] = audio.duration_seconds\n",
    "    except:\n",
    "        pass\n"
   ]
  },
  {
   "cell_type": "code",
   "execution_count": 54,
   "metadata": {},
   "outputs": [
    {
     "data": {
      "text/plain": [
       "{'34ce7a2e-67b3-469f-a1cf-7ee4cbb49112': 42.792,\n",
       " '9b5d4abe-9256-49a0-86df-1fd1772858d4': 358.824,\n",
       " 'a315d69c-e725-47c1-9d6b-da12afcdbeeb': 340.10400000000004,\n",
       " '8a32f6e0-bd3e-4459-be1a-eaf2da2610c3': 331.248,\n",
       " '2dcb6628-e871-4731-9352-bfa09a0a87bb': 436.39199999999994,\n",
       " 'aad212e6-a66e-4ef4-8ffc-1d71a9e62ade': 314.0879999999999,\n",
       " 'cc66ae6a-c36a-48c2-9d35-247463b35c20': 400.99199999999985,\n",
       " '7b2ca104-0585-409c-ad61-7f5140d7e051': 281.20799999999997,\n",
       " 'cef32cf6-52f2-4cfd-856e-f5c3b477352b': 349.824,\n",
       " '60e7475d-31aa-4f8c-95b5-b2aa7101eafb': 285.14400000000006,\n",
       " 'fa67a364-603a-4869-8194-daacf073e35c': 463.8719999999999,\n",
       " '76ebd2d0-4b55-4b9c-864f-4429d2dbe144': 389.1600000000001,\n",
       " '258b34ab-38f9-4100-b97d-49a3ee479afd': 454.3679999999999,\n",
       " '235f80c8-f2c8-416f-ab94-71a0fad3562e': 295.6560000000001,\n",
       " '03a29e77-ef6d-45c2-a252-e6bae10f212c': 282.72,\n",
       " 'e3354056-1ce1-448a-ae3b-4f9bcdeea90a': 315.67199999999997,\n",
       " '610085af-fd74-4b9b-945b-9aec1673bd39': 349.0559999999999,\n",
       " 'aac88c3d-8518-47cd-b011-1874b7d4604a': 393.4080000000001,\n",
       " '146bb098-07b3-4c32-ba00-cfa67f61f5c0': 415.9200000000001,\n",
       " 'be8fae2a-d8e7-4591-9ada-db2fdc5adc1d': 442.944,\n",
       " '035a3b29-6af8-4905-8bd3-4517ac61c12e': 409.32000000000005,\n",
       " 'e8d7adfa-db89-491b-87da-1ebeac23d726': 336.216,\n",
       " '996ca75e-55d2-405d-9fd7-6e50be515828': 364.032,\n",
       " '3ad37ab4-069e-4b83-820d-ddb1c16d3ee9': 165.288,\n",
       " '35071d63-5b04-4b9a-9d67-64d50ede319f': 418.2720000000001,\n",
       " '9f99b3f8-baa9-4864-babf-48e1f3efc98f': 331.464,\n",
       " 'dead28be-7d6e-4cd8-b83f-2662229012a0': 486.816,\n",
       " '57d4e990-5836-4dd9-85fb-1084c2b38a32': 447.23999999999984,\n",
       " 'f81acf0b-736f-475f-b13b-e9c48341c0b3': 529.5120000000001,\n",
       " 'd2b93188-66c0-451c-9bec-b58e783ad126': 350.136,\n",
       " '62f27631-703d-49ff-a69a-9161f987f8f1': 339.3839999999999,\n",
       " 'a674f86b-a678-4c5a-af7d-bab39e86c2dc': 168.72,\n",
       " '470c48aa-0165-485f-88b7-80cce5741c12': 79.36800000000001}"
      ]
     },
     "execution_count": 54,
     "metadata": {},
     "output_type": "execute_result"
    }
   ],
   "source": [
    "user_freq"
   ]
  },
  {
   "cell_type": "code",
   "execution_count": 55,
   "metadata": {},
   "outputs": [
    {
     "data": {
      "text/plain": [
       "{'34ce7a2e-67b3-469f-a1cf-7ee4cbb49112': 5,\n",
       " '9b5d4abe-9256-49a0-86df-1fd1772858d4': 50,\n",
       " 'a315d69c-e725-47c1-9d6b-da12afcdbeeb': 47,\n",
       " '8a32f6e0-bd3e-4459-be1a-eaf2da2610c3': 45,\n",
       " '2dcb6628-e871-4731-9352-bfa09a0a87bb': 58,\n",
       " 'aad212e6-a66e-4ef4-8ffc-1d71a9e62ade': 44,\n",
       " 'cc66ae6a-c36a-48c2-9d35-247463b35c20': 55,\n",
       " '7b2ca104-0585-409c-ad61-7f5140d7e051': 45,\n",
       " 'cef32cf6-52f2-4cfd-856e-f5c3b477352b': 52,\n",
       " '60e7475d-31aa-4f8c-95b5-b2aa7101eafb': 45,\n",
       " 'fa67a364-603a-4869-8194-daacf073e35c': 70,\n",
       " '76ebd2d0-4b55-4b9c-864f-4429d2dbe144': 50,\n",
       " '258b34ab-38f9-4100-b97d-49a3ee479afd': 58,\n",
       " '235f80c8-f2c8-416f-ab94-71a0fad3562e': 44,\n",
       " '03a29e77-ef6d-45c2-a252-e6bae10f212c': 43,\n",
       " 'e3354056-1ce1-448a-ae3b-4f9bcdeea90a': 44,\n",
       " '610085af-fd74-4b9b-945b-9aec1673bd39': 50,\n",
       " 'aac88c3d-8518-47cd-b011-1874b7d4604a': 61,\n",
       " '146bb098-07b3-4c32-ba00-cfa67f61f5c0': 54,\n",
       " 'be8fae2a-d8e7-4591-9ada-db2fdc5adc1d': 65,\n",
       " '035a3b29-6af8-4905-8bd3-4517ac61c12e': 55,\n",
       " 'e8d7adfa-db89-491b-87da-1ebeac23d726': 55,\n",
       " '996ca75e-55d2-405d-9fd7-6e50be515828': 55,\n",
       " '3ad37ab4-069e-4b83-820d-ddb1c16d3ee9': 25,\n",
       " '35071d63-5b04-4b9a-9d67-64d50ede319f': 55,\n",
       " '9f99b3f8-baa9-4864-babf-48e1f3efc98f': 45,\n",
       " 'dead28be-7d6e-4cd8-b83f-2662229012a0': 70,\n",
       " '57d4e990-5836-4dd9-85fb-1084c2b38a32': 60,\n",
       " 'f81acf0b-736f-475f-b13b-e9c48341c0b3': 69,\n",
       " 'd2b93188-66c0-451c-9bec-b58e783ad126': 50,\n",
       " '62f27631-703d-49ff-a69a-9161f987f8f1': 55,\n",
       " 'a674f86b-a678-4c5a-af7d-bab39e86c2dc': 20,\n",
       " '470c48aa-0165-485f-88b7-80cce5741c12': 10}"
      ]
     },
     "execution_count": 55,
     "metadata": {},
     "output_type": "execute_result"
    }
   ],
   "source": [
    "user_total"
   ]
  },
  {
   "cell_type": "code",
   "execution_count": 64,
   "metadata": {},
   "outputs": [
    {
     "name": "stdout",
     "output_type": "stream",
     "text": [
      "33 users\n",
      "in total we have 189.49 in minute\n",
      "in average, each user gave 5.74 in minute\n"
     ]
    }
   ],
   "source": [
    "total_length = []\n",
    "for i ,v_key in enumerate(user_freq):\n",
    "    total_length.append(user_freq[v_key])\n",
    "print(f'{n_users} users')    \n",
    "print(f'in total we have {sum(total_length)/60:.2f} in minute')\n",
    "print(f'in average, each user gave {(sum(total_length)/33)/60:.2f} in minute')"
   ]
  },
  {
   "cell_type": "code",
   "execution_count": 61,
   "metadata": {},
   "outputs": [
    {
     "data": {
      "text/plain": [
       "[42.792,\n",
       " 358.824,\n",
       " 340.10400000000004,\n",
       " 331.248,\n",
       " 436.39199999999994,\n",
       " 314.0879999999999,\n",
       " 400.99199999999985,\n",
       " 281.20799999999997,\n",
       " 349.824,\n",
       " 285.14400000000006,\n",
       " 463.8719999999999,\n",
       " 389.1600000000001,\n",
       " 454.3679999999999,\n",
       " 295.6560000000001,\n",
       " 282.72,\n",
       " 315.67199999999997,\n",
       " 349.0559999999999,\n",
       " 393.4080000000001,\n",
       " 415.9200000000001,\n",
       " 442.944,\n",
       " 409.32000000000005,\n",
       " 336.216,\n",
       " 364.032,\n",
       " 165.288,\n",
       " 418.2720000000001,\n",
       " 331.464,\n",
       " 486.816,\n",
       " 447.23999999999984,\n",
       " 529.5120000000001,\n",
       " 350.136,\n",
       " 339.3839999999999,\n",
       " 168.72,\n",
       " 79.36800000000001]"
      ]
     },
     "execution_count": 61,
     "metadata": {},
     "output_type": "execute_result"
    }
   ],
   "source": [
    "total_length"
   ]
  },
  {
   "cell_type": "code",
   "execution_count": 68,
   "metadata": {},
   "outputs": [
    {
     "data": {
      "text/plain": [
       "(1614, 11)"
      ]
     },
     "execution_count": 68,
     "metadata": {},
     "output_type": "execute_result"
    }
   ],
   "source": [
    "df.shape"
   ]
  },
  {
   "cell_type": "code",
   "execution_count": null,
   "metadata": {},
   "outputs": [],
   "source": []
  }
 ],
 "metadata": {
  "kernelspec": {
   "display_name": "Python 3",
   "language": "python",
   "name": "python3"
  },
  "language_info": {
   "codemirror_mode": {
    "name": "ipython",
    "version": 3
   },
   "file_extension": ".py",
   "mimetype": "text/x-python",
   "name": "python",
   "nbconvert_exporter": "python",
   "pygments_lexer": "ipython3",
   "version": "3.7.9"
  }
 },
 "nbformat": 4,
 "nbformat_minor": 4
}
