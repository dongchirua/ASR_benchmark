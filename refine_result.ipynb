{
 "cells": [
  {
   "cell_type": "code",
   "execution_count": 1,
   "metadata": {},
   "outputs": [],
   "source": [
    "import pandas as pd"
   ]
  },
  {
   "cell_type": "code",
   "execution_count": 2,
   "metadata": {},
   "outputs": [],
   "source": [
    "import re\n",
    "import os\n",
    "from shutil import copyfile"
   ]
  },
  {
   "cell_type": "code",
   "execution_count": 3,
   "metadata": {},
   "outputs": [],
   "source": [
    "import codecs"
   ]
  },
  {
   "cell_type": "code",
   "execution_count": 4,
   "metadata": {},
   "outputs": [],
   "source": [
    "from pydub import AudioSegment"
   ]
  },
  {
   "cell_type": "code",
   "execution_count": 5,
   "metadata": {},
   "outputs": [],
   "source": [
    "vinbrain_folder = os.path.join('data', 'vinbrain')"
   ]
  },
  {
   "cell_type": "code",
   "execution_count": 6,
   "metadata": {},
   "outputs": [],
   "source": [
    "from os import walk\n",
    "\n",
    "f = []\n",
    "for (dirpath, dirnames, filenames) in walk(vinbrain_folder):\n",
    "    f.extend(filenames)\n",
    "    break"
   ]
  },
  {
   "cell_type": "code",
   "execution_count": 7,
   "metadata": {},
   "outputs": [],
   "source": [
    "audio = []\n",
    "gcp = []\n",
    "vais = []\n",
    "gold = []\n",
    "name = []\n",
    "vais_md = []\n",
    "\n",
    "for i in f:\n",
    "    ext = i.split('.')[-1]\n",
    "    f_name = i.split('.')[0]\n",
    "    if ext == 'wav':\n",
    "        audio.append(i)\n",
    "        name.append(f_name)"
   ]
  },
  {
   "cell_type": "code",
   "execution_count": 8,
   "metadata": {},
   "outputs": [],
   "source": [
    "r = []\n",
    "for k, i in enumerate(name):\n",
    "    ff_loc = os.path.join(vinbrain_folder, i + '_google.txt')\n",
    "    if os.path.isfile(ff_loc):\n",
    "        gc_txt = codecs.open(ff_loc, 'r', 'UTF-8').read()\n",
    "    else:\n",
    "        gc_txt = None\n",
    "    \n",
    "    ff_loc = os.path.join(vinbrain_folder, i + '_vais.txt')\n",
    "    if os.path.isfile(ff_loc):\n",
    "        va_txt = codecs.open(ff_loc, 'r', 'UTF-8').read()\n",
    "    else:\n",
    "        va_txt = None\n",
    "    \n",
    "    ff_loc = os.path.join(vinbrain_folder, i + '_gold.txt')\n",
    "    if os.path.isfile(ff_loc):\n",
    "        go_txt = codecs.open(ff_loc, 'r', 'UTF-8').read()\n",
    "    else:\n",
    "        go_txt = None\n",
    "    \n",
    "    \n",
    "    ff_loc = os.path.join(vinbrain_folder, i + '_vais_md.txt')\n",
    "    if os.path.isfile(ff_loc):\n",
    "        vais_md = codecs.open(ff_loc, 'r', 'UTF-8').read()\n",
    "    else:\n",
    "        vais_md = None\n",
    "    \n",
    "    f_audio = AudioSegment.from_file(os.path.join(vinbrain_folder, audio[k]))\n",
    "        \n",
    "    r.append((i, f_audio.duration_seconds, go_txt, va_txt, gc_txt, vais_md))"
   ]
  },
  {
   "cell_type": "code",
   "execution_count": 9,
   "metadata": {},
   "outputs": [],
   "source": [
    "result = pd.DataFrame(r, columns=['id', 'duration', 'gold',  'vais', 'google', 'vais_md'])"
   ]
  },
  {
   "cell_type": "code",
   "execution_count": 10,
   "metadata": {},
   "outputs": [],
   "source": [
    "from src.refine_text import normalize_golden_text, normalize_pred_text"
   ]
  },
  {
   "cell_type": "code",
   "execution_count": 11,
   "metadata": {},
   "outputs": [],
   "source": [
    "result['gold_refined'] = result['gold'].apply(normalize_golden_text)"
   ]
  },
  {
   "cell_type": "code",
   "execution_count": 12,
   "metadata": {},
   "outputs": [],
   "source": [
    "result['vais_md_refined'] = result['vais_md'].apply(normalize_pred_text)"
   ]
  },
  {
   "cell_type": "code",
   "execution_count": 13,
   "metadata": {},
   "outputs": [],
   "source": [
    "result['google_refined'] = result['google'].apply(normalize_pred_text)"
   ]
  },
  {
   "cell_type": "code",
   "execution_count": 14,
   "metadata": {},
   "outputs": [],
   "source": [
    "result.to_excel('/Users/bryan/Desktop/data_export.xls')"
   ]
  },
  {
   "cell_type": "code",
   "execution_count": 17,
   "metadata": {},
   "outputs": [],
   "source": [
    "new_result = result[['gold_refined', 'vais_md_refined', 'google_refined']]\n",
    "new_result.to_excel('/Users/bryan/Desktop/data_refined_export.xls')"
   ]
  },
  {
   "cell_type": "code",
   "execution_count": 17,
   "metadata": {},
   "outputs": [],
   "source": [
    "# devide files"
   ]
  },
  {
   "cell_type": "code",
   "execution_count": 31,
   "metadata": {},
   "outputs": [],
   "source": [
    "quy = []\n",
    "tuan = []\n",
    "toan = []\n",
    "\n",
    "shared_folder = os.path.join('data', 'share')\n",
    "\n",
    "for k, i in enumerate(name):\n",
    "    if k%3 == 0:\n",
    "        copyfile(os.path.join(vinbrain_folder, audio[k]), os.path.join(shared_folder, 'quy', audio[k]))\n",
    "        copyfile(os.path.join(vinbrain_folder, i + '_gold.txt'), os.path.join(shared_folder, 'quy', i + '_gold.txt'))\n",
    "    if k%3 == 1:\n",
    "        copyfile(os.path.join(vinbrain_folder, audio[k]), os.path.join(shared_folder, 'tuan', audio[k]))\n",
    "        copyfile(os.path.join(vinbrain_folder, i + '_gold.txt'), os.path.join(shared_folder, 'tuan', i + '_gold.txt'))\n",
    "    if k%3 == 2:\n",
    "        copyfile(os.path.join(vinbrain_folder, audio[k]), os.path.join(shared_folder, 'toan', audio[k]))\n",
    "        copyfile(os.path.join(vinbrain_folder, i + '_gold.txt'), os.path.join(shared_folder, 'toan', i + '_gold.txt'))"
   ]
  },
  {
   "cell_type": "code",
   "execution_count": 32,
   "metadata": {},
   "outputs": [
    {
     "data": {
      "text/plain": [
       "(0, 0, 0)"
      ]
     },
     "execution_count": 32,
     "metadata": {},
     "output_type": "execute_result"
    }
   ],
   "source": [
    "len(quy), len(toan), len(tuan)"
   ]
  },
  {
   "cell_type": "code",
   "execution_count": null,
   "metadata": {},
   "outputs": [],
   "source": []
  }
 ],
 "metadata": {
  "kernelspec": {
   "display_name": "Python 3",
   "language": "python",
   "name": "python3"
  },
  "language_info": {
   "codemirror_mode": {
    "name": "ipython",
    "version": 3
   },
   "file_extension": ".py",
   "mimetype": "text/x-python",
   "name": "python",
   "nbconvert_exporter": "python",
   "pygments_lexer": "ipython3",
   "version": "3.7.9"
  }
 },
 "nbformat": 4,
 "nbformat_minor": 4
}
